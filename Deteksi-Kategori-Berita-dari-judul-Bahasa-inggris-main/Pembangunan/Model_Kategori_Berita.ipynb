{
  "nbformat": 4,
  "nbformat_minor": 0,
  "metadata": {
    "colab": {
      "provenance": []
    },
    "kernelspec": {
      "name": "python3",
      "display_name": "Python 3"
    },
    "language_info": {
      "name": "python"
    }
  },
  "cells": [
    {
      "cell_type": "code",
      "source": [
        "# Import Library\n",
        "import pandas as pd\n",
        "import re\n",
        "import joblib"
      ],
      "metadata": {
        "id": "gK0W55ecakuO"
      },
      "execution_count": null,
      "outputs": []
    },
    {
      "cell_type": "code",
      "source": [
        "from google.colab import drive\n",
        "drive.mount('/content/drive')"
      ],
      "metadata": {
        "colab": {
          "base_uri": "https://localhost:8080/"
        },
        "id": "VmzOehVKaqKv",
        "outputId": "fbc3083f-e1b4-40f1-b200-0d365831310b"
      },
      "execution_count": null,
      "outputs": [
        {
          "output_type": "stream",
          "name": "stdout",
          "text": [
            "Drive already mounted at /content/drive; to attempt to forcibly remount, call drive.mount(\"/content/drive\", force_remount=True).\n"
          ]
        }
      ]
    },
    {
      "cell_type": "code",
      "source": [
        "# 1. Load Dataset JSON\n",
        "file_path = '/content/drive/MyDrive/Data Set/News_Category_Dataset_v3.json'\n",
        "data = pd.read_json(file_path, lines=True)\n",
        "\n",
        "print(data.head())"
      ],
      "metadata": {
        "colab": {
          "base_uri": "https://localhost:8080/"
        },
        "id": "K5-80Nj8asCP",
        "outputId": "4ce7b656-f1a7-4e88-9cbc-2575c3f75195"
      },
      "execution_count": null,
      "outputs": [
        {
          "output_type": "stream",
          "name": "stdout",
          "text": [
            "                                                link  \\\n",
            "0  https://www.huffpost.com/entry/covid-boosters-...   \n",
            "1  https://www.huffpost.com/entry/american-airlin...   \n",
            "2  https://www.huffpost.com/entry/funniest-tweets...   \n",
            "3  https://www.huffpost.com/entry/funniest-parent...   \n",
            "4  https://www.huffpost.com/entry/amy-cooper-lose...   \n",
            "\n",
            "                                            headline   category  \\\n",
            "0  Over 4 Million Americans Roll Up Sleeves For O...  U.S. NEWS   \n",
            "1  American Airlines Flyer Charged, Banned For Li...  U.S. NEWS   \n",
            "2  23 Of The Funniest Tweets About Cats And Dogs ...     COMEDY   \n",
            "3  The Funniest Tweets From Parents This Week (Se...  PARENTING   \n",
            "4  Woman Who Called Cops On Black Bird-Watcher Lo...  U.S. NEWS   \n",
            "\n",
            "                                   short_description               authors  \\\n",
            "0  Health experts said it is too early to predict...  Carla K. Johnson, AP   \n",
            "1  He was subdued by passengers and crew when he ...        Mary Papenfuss   \n",
            "2  \"Until you have a dog you don't understand wha...         Elyse Wanshel   \n",
            "3  \"Accidentally put grown-up toothpaste on my to...      Caroline Bologna   \n",
            "4  Amy Cooper accused investment firm Franklin Te...        Nina Golgowski   \n",
            "\n",
            "        date  \n",
            "0 2022-09-23  \n",
            "1 2022-09-23  \n",
            "2 2022-09-23  \n",
            "3 2022-09-23  \n",
            "4 2022-09-22  \n"
          ]
        }
      ]
    },
    {
      "cell_type": "code",
      "source": [
        "# Gabungkan kategori yang mirip\n",
        "data['category'] = data['category'].replace({\n",
        "    'STYLE': 'STYLE & BEAUTY',\n",
        "    'ARTS': 'CULTURE & ARTS',\n",
        "    'WORLDPOST': 'WORLD NEWS',\n",
        "    'PARENTS': 'PARENTING',\n",
        "    'HEALTHY LIVING': 'WELLNESS',\n",
        "    'TASTE': 'FOOD & DRINK'\n",
        "})\n"
      ],
      "metadata": {
        "id": "mabFTgbAaxuP"
      },
      "execution_count": null,
      "outputs": []
    },
    {
      "cell_type": "code",
      "source": [
        "print(data['category'].unique())"
      ],
      "metadata": {
        "colab": {
          "base_uri": "https://localhost:8080/"
        },
        "id": "8e7SLUh_dsJr",
        "outputId": "21c13ed1-642a-40b2-b10e-e4e217274bf1"
      },
      "execution_count": null,
      "outputs": [
        {
          "output_type": "stream",
          "name": "stdout",
          "text": [
            "['U.S. NEWS' 'COMEDY' 'PARENTING' 'WORLD NEWS' 'CULTURE & ARTS' 'TECH'\n",
            " 'SPORTS' 'ENTERTAINMENT' 'POLITICS' 'WEIRD NEWS' 'ENVIRONMENT'\n",
            " 'EDUCATION' 'CRIME' 'SCIENCE' 'WELLNESS' 'BUSINESS' 'STYLE & BEAUTY'\n",
            " 'FOOD & DRINK' 'MEDIA' 'QUEER VOICES' 'HOME & LIVING' 'WOMEN'\n",
            " 'BLACK VOICES' 'TRAVEL' 'MONEY' 'RELIGION' 'LATINO VOICES' 'IMPACT'\n",
            " 'WEDDINGS' 'COLLEGE' 'ARTS & CULTURE' 'GREEN' 'THE WORLDPOST' 'GOOD NEWS'\n",
            " 'FIFTY' 'DIVORCE']\n"
          ]
        }
      ]
    },
    {
      "cell_type": "code",
      "source": [
        "# Tentukan kategori yang ingin di-undersample\n",
        "category_to_undersample = ['POLITICS', 'WELLNESS','ENTERTAINMENT','PARENTING','STYLE & BEAUTY','TRAVEL','FOOD & DRINK','QUEER VOICES','BUSINESS','WORLD NEWS','COMEDY','SPORTS','BLACK VOICES','HOME & LIVING']\n",
        "\n",
        "# Tentukan jumlah data yang diinginkan untuk kategori mayoritas\n",
        "# Misalnya kita ingin menyeimbangkan POLITICS dengan kategori dengan jumlah data paling sedikit\n",
        "min_class_size = 3000\n",
        "\n",
        "# Undersampling kategori yang ada dalam daftar category_to_undersample\n",
        "# Menggunakan isin untuk memilih data yang sesuai dengan kategori yang diinginkan\n",
        "undersampled_data = data[data['category'].isin(category_to_undersample)]\n",
        "\n",
        "# Menentukan jumlah data yang ingin diambil dari kategori tersebut\n",
        "undersampled_data = undersampled_data.groupby('category').apply(lambda x: x.sample(n=min_class_size, random_state=42)).reset_index(drop=True)\n",
        "\n",
        "# Data lain yang tidak diubah\n",
        "other_data = data[~data['category'].isin(category_to_undersample)]\n",
        "\n",
        "# Gabungkan data yang sudah diundersample dengan kategori lainnya\n",
        "data_balanced = pd.concat([undersampled_data, other_data])\n",
        "\n",
        "# Lihat distribusi kategori setelah undersampling\n",
        "print(\"\\nDistribusi Kategori Setelah Undersampling:\")\n",
        "print(data_balanced['category'].value_counts())\n"
      ],
      "metadata": {
        "colab": {
          "base_uri": "https://localhost:8080/"
        },
        "id": "sQ2_DD_HbVnO",
        "outputId": "b8b69c1b-44c0-4a36-dce3-bae17a1b8b26"
      },
      "execution_count": null,
      "outputs": [
        {
          "output_type": "stream",
          "name": "stdout",
          "text": [
            "\n",
            "Distribusi Kategori Setelah Undersampling:\n",
            "category\n",
            "THE WORLDPOST     3664\n",
            "WEDDINGS          3653\n",
            "WOMEN             3572\n",
            "CRIME             3562\n",
            "IMPACT            3484\n",
            "DIVORCE           3426\n",
            "TRAVEL            3000\n",
            "BUSINESS          3000\n",
            "WORLD NEWS        3000\n",
            "WELLNESS          3000\n",
            "BLACK VOICES      3000\n",
            "STYLE & BEAUTY    3000\n",
            "POLITICS          3000\n",
            "COMEDY            3000\n",
            "ENTERTAINMENT     3000\n",
            "FOOD & DRINK      3000\n",
            "SPORTS            3000\n",
            "PARENTING         3000\n",
            "HOME & LIVING     3000\n",
            "QUEER VOICES      3000\n",
            "MEDIA             2944\n",
            "WEIRD NEWS        2777\n",
            "GREEN             2622\n",
            "CULTURE & ARTS    2583\n",
            "RELIGION          2577\n",
            "SCIENCE           2206\n",
            "TECH              2104\n",
            "MONEY             1756\n",
            "ENVIRONMENT       1444\n",
            "FIFTY             1401\n",
            "GOOD NEWS         1398\n",
            "U.S. NEWS         1377\n",
            "ARTS & CULTURE    1339\n",
            "COLLEGE           1144\n",
            "LATINO VOICES     1130\n",
            "EDUCATION         1014\n",
            "Name: count, dtype: int64\n"
          ]
        },
        {
          "output_type": "stream",
          "name": "stderr",
          "text": [
            "<ipython-input-28-92f637178460>:13: DeprecationWarning: DataFrameGroupBy.apply operated on the grouping columns. This behavior is deprecated, and in a future version of pandas the grouping columns will be excluded from the operation. Either pass `include_groups=False` to exclude the groupings or explicitly select the grouping columns after groupby to silence this warning.\n",
            "  undersampled_data = undersampled_data.groupby('category').apply(lambda x: x.sample(n=min_class_size, random_state=42)).reset_index(drop=True)\n"
          ]
        }
      ]
    },
    {
      "cell_type": "code",
      "source": [
        "# 2. Ambil Kolom yang Relevan\n",
        "# Kolom 'category' sebagai target dan 'headline' + 'short_description' sebagai fitur\n",
        "data['text'] = data['headline'].fillna('') + ' ' + data['short_description'].fillna('')"
      ],
      "metadata": {
        "id": "nnCJvg_Ua1x1"
      },
      "execution_count": null,
      "outputs": []
    },
    {
      "cell_type": "code",
      "source": [
        "import nltk\n",
        "nltk.download('stopwords')\n",
        "from nltk.corpus import stopwords\n",
        "from nltk.stem import WordNetLemmatizer\n",
        "\n",
        "# 3. Prapemrosesan Teks\n",
        "\n",
        "nltk.download('wordnet')\n",
        "nltk.download('stopwords')\n",
        "\n",
        "stop_words = set(stopwords.words('english'))  # Ubah ke bahasa yang sesuai\n",
        "lemmatizer = WordNetLemmatizer()\n",
        "\n",
        "def preprocess(text):\n",
        "    text = text.lower()  # Lowercase\n",
        "    text = re.sub(r'[^a-z\\s]', '', text)  # Remove special characters\n",
        "    text = ' '.join([lemmatizer.lemmatize(word) for word in text.split() if word not in stop_words])\n",
        "    return text\n",
        "\n",
        "data['clean_text'] = data['text'].apply(preprocess)"
      ],
      "metadata": {
        "colab": {
          "base_uri": "https://localhost:8080/"
        },
        "id": "PhT4h2kUa6ja",
        "outputId": "ea8554c7-7e8b-41d1-f3c2-c91f7d396b96"
      },
      "execution_count": null,
      "outputs": [
        {
          "output_type": "stream",
          "name": "stderr",
          "text": [
            "[nltk_data] Downloading package stopwords to /root/nltk_data...\n",
            "[nltk_data]   Package stopwords is already up-to-date!\n",
            "[nltk_data] Downloading package wordnet to /root/nltk_data...\n",
            "[nltk_data]   Package wordnet is already up-to-date!\n",
            "[nltk_data] Downloading package stopwords to /root/nltk_data...\n",
            "[nltk_data]   Package stopwords is already up-to-date!\n"
          ]
        }
      ]
    },
    {
      "cell_type": "code",
      "source": [
        "# 4. Split Data\n",
        "X = data['clean_text']  # Fitur\n",
        "y = data['category']  # Target"
      ],
      "metadata": {
        "id": "K4nEL83Ia9kM"
      },
      "execution_count": null,
      "outputs": []
    },
    {
      "cell_type": "code",
      "source": [
        "from sklearn.model_selection import train_test_split\n",
        "from sklearn.feature_extraction.text import TfidfVectorizer\n",
        "from sklearn.naive_bayes import MultinomialNB\n",
        "from sklearn.metrics import accuracy_score, classification_report\n",
        "from sklearn.linear_model import LogisticRegression"
      ],
      "metadata": {
        "id": "lIyfGU80gTgh"
      },
      "execution_count": null,
      "outputs": []
    },
    {
      "cell_type": "code",
      "source": [
        "# Pisahkan data latih dan uji\n",
        "X_train, X_test, y_train, y_test = train_test_split(X, y, test_size=0.2, random_state=42)\n",
        "\n",
        "# Mengubah teks menjadi fitur menggunakan TF-IDF\n",
        "vectorizer = TfidfVectorizer(max_features=10000)\n",
        "X_train_tfidf = vectorizer.fit_transform(X_train)\n",
        "X_test_tfidf = vectorizer.transform(X_test)\n"
      ],
      "metadata": {
        "id": "LgI2vIbdbRw2"
      },
      "execution_count": null,
      "outputs": []
    },
    {
      "cell_type": "code",
      "source": [
        "model = LogisticRegression(class_weight='balanced', max_iter=500)\n",
        "model.fit(X_train_tfidf, y_train)\n",
        "y_pred = model.predict(X_test_tfidf)\n",
        "\n",
        "print(\"Accuracy:\", accuracy_score(y_test, y_pred))\n",
        "print(\"Classification Report:\")\n",
        "print(classification_report(y_test, y_pred))"
      ],
      "metadata": {
        "colab": {
          "base_uri": "https://localhost:8080/"
        },
        "id": "CpgYg4wWfg8f",
        "outputId": "91a24e34-db21-4ea9-cc11-3c4a85e477b8"
      },
      "execution_count": null,
      "outputs": [
        {
          "output_type": "stream",
          "name": "stdout",
          "text": [
            "Accuracy: 0.5828998234143082\n",
            "Classification Report:\n",
            "                precision    recall  f1-score   support\n",
            "\n",
            "ARTS & CULTURE       0.21      0.40      0.27       275\n",
            "  BLACK VOICES       0.41      0.45      0.43       889\n",
            "      BUSINESS       0.45      0.45      0.45      1216\n",
            "       COLLEGE       0.29      0.55      0.38       202\n",
            "        COMEDY       0.46      0.49      0.47      1022\n",
            "         CRIME       0.48      0.62      0.54       713\n",
            "CULTURE & ARTS       0.34      0.50      0.40       495\n",
            "       DIVORCE       0.71      0.74      0.73       664\n",
            "     EDUCATION       0.28      0.56      0.37       209\n",
            " ENTERTAINMENT       0.73      0.53      0.61      3419\n",
            "   ENVIRONMENT       0.29      0.42      0.34       313\n",
            "         FIFTY       0.15      0.38      0.21       263\n",
            "  FOOD & DRINK       0.73      0.78      0.75      1697\n",
            "     GOOD NEWS       0.17      0.39      0.24       270\n",
            "         GREEN       0.31      0.47      0.37       532\n",
            " HOME & LIVING       0.66      0.75      0.70       879\n",
            "        IMPACT       0.29      0.40      0.34       673\n",
            " LATINO VOICES       0.26      0.52      0.34       238\n",
            "         MEDIA       0.39      0.63      0.48       607\n",
            "         MONEY       0.33      0.61      0.42       355\n",
            "     PARENTING       0.73      0.62      0.67      2563\n",
            "      POLITICS       0.89      0.55      0.68      7155\n",
            "  QUEER VOICES       0.74      0.65      0.70      1262\n",
            "      RELIGION       0.44      0.62      0.51       530\n",
            "       SCIENCE       0.37      0.62      0.46       424\n",
            "        SPORTS       0.62      0.72      0.67      1014\n",
            "STYLE & BEAUTY       0.83      0.74      0.78      2439\n",
            "          TECH       0.34      0.62      0.44       398\n",
            " THE WORLDPOST       0.40      0.51      0.45       741\n",
            "        TRAVEL       0.75      0.70      0.72      2021\n",
            "     U.S. NEWS       0.12      0.28      0.17       269\n",
            "      WEDDINGS       0.71      0.78      0.74       709\n",
            "    WEIRD NEWS       0.26      0.38      0.31       550\n",
            "      WELLNESS       0.82      0.58      0.68      4974\n",
            "         WOMEN       0.30      0.44      0.36       727\n",
            "    WORLD NEWS       0.45      0.42      0.44      1199\n",
            "\n",
            "      accuracy                           0.58     41906\n",
            "     macro avg       0.46      0.55      0.49     41906\n",
            "  weighted avg       0.66      0.58      0.60     41906\n",
            "\n"
          ]
        }
      ]
    },
    {
      "cell_type": "code",
      "source": [
        "from sklearn.metrics import f1_score\n",
        "\n",
        "print(\"F1-Score:\", f1_score(y_test, y_pred, average='weighted'))"
      ],
      "metadata": {
        "colab": {
          "base_uri": "https://localhost:8080/"
        },
        "id": "IexgsP50ftZM",
        "outputId": "15810590-d16e-4f39-995b-2502b69260be"
      },
      "execution_count": null,
      "outputs": [
        {
          "output_type": "stream",
          "name": "stdout",
          "text": [
            "F1-Score: 0.6033445026020556\n"
          ]
        }
      ]
    },
    {
      "cell_type": "code",
      "source": [
        "import pickle\n",
        "\n",
        "with open('model_kategori_berita_pickle.pkl', 'wb') as model_file, open('vectorizer_kategori_berita_pickle.pkl', 'wb') as vectorizer_file:\n",
        "    pickle.dump(model, model_file)\n",
        "    pickle.dump(vectorizer, vectorizer_file)"
      ],
      "metadata": {
        "id": "f1KG6AdlpwRu"
      },
      "execution_count": null,
      "outputs": []
    },
    {
      "cell_type": "code",
      "source": [
        "def clean_text(text):\n",
        "    text = text.lower()  # Mengubah ke lowercase\n",
        "    text = re.sub(r'[^a-z\\s]', '', text)  # Menghapus karakter non-alfabet\n",
        "    return text\n",
        "\n",
        "def predict_category(input_text, model, vectorizer):\n",
        "    # Bersihkan teks input\n",
        "    cleaned_input = clean_text(input_text)\n",
        "\n",
        "    # Transformasi ke fitur TF-IDF\n",
        "    input_tfidf = vectorizer.transform([cleaned_input])\n",
        "\n",
        "    # Lakukan prediksi\n",
        "    predicted_category = model.predict(input_tfidf)\n",
        "\n",
        "    return predicted_category[0]  # Mengembalikan kategori yang diprediksi"
      ],
      "metadata": {
        "id": "JK1jOEd3lIlQ"
      },
      "execution_count": null,
      "outputs": []
    },
    {
      "cell_type": "code",
      "source": [
        "# Menerima input teks dari pengguna\n",
        "input_text = input(\"Enter the article headline: \")\n",
        "\n",
        "# Memprediksi kategori artikel\n",
        "predicted_category = predict_category(input_text, model, vectorizer)\n",
        "\n",
        "# Menampilkan hasil\n",
        "print(f\"Predicted Category: {predicted_category}\")"
      ],
      "metadata": {
        "colab": {
          "base_uri": "https://localhost:8080/"
        },
        "id": "ZSolqhcRlQVO",
        "outputId": "76c84d32-b547-487e-926e-94aa9d71709a"
      },
      "execution_count": null,
      "outputs": [
        {
          "output_type": "stream",
          "name": "stdout",
          "text": [
            "Enter the article headline: health tips for a better lifestyle in the pandemic\n",
            "Predicted Category: WELLNESS\n"
          ]
        }
      ]
    }
  ]
}
